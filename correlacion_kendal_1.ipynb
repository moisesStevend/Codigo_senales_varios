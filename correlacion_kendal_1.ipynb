{
 "cells": [
  {
   "cell_type": "markdown",
   "id": "fa21a381-5ee6-470d-87e2-4603d21b3a2e",
   "metadata": {},
   "source": [
    "# Kendall Correlation"
   ]
  },
  {
   "cell_type": "markdown",
   "id": "bcbad773-fb8a-4b93-98f6-4bb80530f983",
   "metadata": {},
   "source": [
    "In statistics, the Kendall rank correlation coefficient, commonly referred to as Kendall's τ coefficient (after the Greek letter τ, tau), is a statistic used to measure the ordinal association between two measured quantities. A τ test is a non-parametric hypothesis test for statistical dependence based on the τ coefficient.\n",
    "\n",
    "It is a measure of rank correlation: the similarity of the orderings of the data when ranked by each of the quantities. It is named after Maurice Kendall, who developed it in 1938,[1] though Gustav Fechner had proposed a similar measure in the context of time series in 1897.[2]\n",
    "\n",
    "Intuitively, the Kendall correlation between two variables will be high when observations have a similar (or identical for a correlation of 1) rank (i.e. relative position label of the observations within the variable: 1st, 2nd, 3rd, etc.) between the two variables, and low when observations have a dissimilar (or fully different for a correlation of −1) rank between the two variables."
   ]
  },
  {
   "cell_type": "code",
   "execution_count": 1,
   "id": "b23a5506-0920-492c-8d12-0da237a57f60",
   "metadata": {},
   "outputs": [],
   "source": [
    "import pandas as pd\n",
    "import numpy as np\n",
    "import matplotlib.pyplot as plt\n",
    "from scipy import stats"
   ]
  },
  {
   "cell_type": "code",
   "execution_count": 3,
   "id": "27da65fb-e35c-4ad7-bba4-65e8f7cb5b63",
   "metadata": {},
   "outputs": [
    {
     "name": "stdout",
     "output_type": "stream",
     "text": [
      "Totalmente de acuerdo: 1.0\n"
     ]
    }
   ],
   "source": [
    "# {A:1, B:2, C:3, D:4}\n",
    "\n",
    "ranking1 = [1,2,3,4]\n",
    "ranking2 = [1,2,3,4]\n",
    "\n",
    "result = stats.kendalltau(ranking1, ranking2)\n",
    "print(\"Totalmente de acuerdo:\", result.correlation)"
   ]
  },
  {
   "cell_type": "code",
   "execution_count": 4,
   "id": "9a2c7d79-7f6c-4ccf-9957-534baa64b3ac",
   "metadata": {},
   "outputs": [
    {
     "name": "stdout",
     "output_type": "stream",
     "text": [
      "Totalmente en desacuerdo: -1.0\n"
     ]
    }
   ],
   "source": [
    "ranking1 = [1,2,3,4]\n",
    "ranking2 = [4,3,2,1]\n",
    "\n",
    "result = stats.kendalltau(ranking1, ranking2)\n",
    "print(\"Totalmente en desacuerdo:\", result.correlation)"
   ]
  },
  {
   "cell_type": "code",
   "execution_count": 6,
   "id": "e9ea2029-ddc1-44f2-a300-69de2b6feb05",
   "metadata": {},
   "outputs": [
    {
     "name": "stdout",
     "output_type": "stream",
     "text": [
      "Parcialmente en acuerdo: 0.33\n"
     ]
    }
   ],
   "source": [
    "ranking1 = [1,3,2,4]\n",
    "ranking2 = [1,4,3,2]\n",
    "\n",
    "result = stats.kendalltau(ranking1, ranking2)\n",
    "print(\"Parcialmente en acuerdo:\", np.round(result.correlation,2))"
   ]
  },
  {
   "cell_type": "code",
   "execution_count": 7,
   "id": "9fb84bce-eb0b-4893-828c-fcd781afa30e",
   "metadata": {},
   "outputs": [
    {
     "data": {
      "text/plain": [
       "<matplotlib.collections.PathCollection at 0x7f971b95e9e0>"
      ]
     },
     "execution_count": 7,
     "metadata": {},
     "output_type": "execute_result"
    },
    {
     "data": {
      "image/png": "[encoded data removed]",
      "text/plain": [
       "<Figure size 640x480 with 1 Axes>"
      ]
     },
     "metadata": {},
     "output_type": "display_data"
    }
   ],
   "source": [
    "plt.scatter(ranking1, ranking2)"
   ]
  },
  {
   "cell_type": "code",
   "execution_count": null,
   "id": "ffe0a3c2-a212-4248-9f4a-75c7c319e417",
   "metadata": {},
   "outputs": [],
   "source": []
  }
 ],
 "metadata": {
  "kernelspec": {
   "display_name": "Python 3 (ipykernel)",
   "language": "python",
   "name": "python3"
  },
  "language_info": {
   "codemirror_mode": {
    "name": "ipython",
    "version": 3
   },
   "file_extension": ".py",
   "mimetype": "text/x-python",
   "name": "python",
   "nbconvert_exporter": "python",
   "pygments_lexer": "ipython3",
   "version": "3.10.9"
  }
 },
 "nbformat": 4,
 "nbformat_minor": 5
}
